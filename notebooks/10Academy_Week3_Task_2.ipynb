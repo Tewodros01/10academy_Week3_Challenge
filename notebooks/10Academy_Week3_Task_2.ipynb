{
 "cells": [
  {
   "cell_type": "code",
   "execution_count": 16,
   "id": "cbaf4c1c",
   "metadata": {},
   "outputs": [],
   "source": [
    "import pandas as pd\n",
    "import numpy as np\n",
    "import scipy.stats as stats\n"
   ]
  },
  {
   "cell_type": "code",
   "execution_count": 17,
   "id": "bfc3019f",
   "metadata": {},
   "outputs": [
    {
     "name": "stderr",
     "output_type": "stream",
     "text": [
      "C:\\Users\\tewodros\\AppData\\Local\\Temp\\ipykernel_14144\\3392931956.py:3: DtypeWarning: Columns (32,37) have mixed types. Specify dtype option on import or set low_memory=False.\n",
      "  df = pd.read_csv(file_path, sep=\"|\")\n"
     ]
    }
   ],
   "source": [
    "# Load the dataset\n",
    "file_path = \"../data/MachineLearningRating_v3.txt\"\n",
    "df = pd.read_csv(file_path, sep=\"|\")\n",
    "\n",
    "# Convert PostalCode to string to avoid issues with NaN values\n",
    "df['PostalCode'] = df['PostalCode'].astype(str)"
   ]
  },
  {
   "cell_type": "code",
   "execution_count": 18,
   "id": "80df9109",
   "metadata": {},
   "outputs": [],
   "source": [
    "# Fill missing values for categorical columns with the most frequent value\n",
    "categorical_cols = ['Gender', 'Province', 'PostalCode']\n",
    "for col in categorical_cols:\n",
    "    df[col].fillna(df[col].mode()[0], inplace=True)\n",
    "\n",
    "# Fill missing values for numerical columns with the mean\n",
    "numerical_cols = ['TotalClaims', 'TotalPremium']\n",
    "for col in numerical_cols:\n",
    "    df[col].fillna(df[col].mean(), inplace=True)"
   ]
  },
  {
   "cell_type": "code",
   "execution_count": 19,
   "id": "e3969ac3",
   "metadata": {},
   "outputs": [],
   "source": [
    "# Define the necessary functions for hypothesis testing\n",
    "def chi_squared_test(df, col1, col2):\n",
    "    contingency_table = pd.crosstab(df[col1], df[col2])\n",
    "    chi2, p_value, _, _ = stats.chi2_contingency(contingency_table)\n",
    "    return p_value\n",
    "\n",
    "def t_test(df, group_A, group_B):\n",
    "    _, p_value = stats.ttest_ind(group_A, group_B)\n",
    "    return p_value"
   ]
  },
  {
   "cell_type": "code",
   "execution_count": 20,
   "id": "01dccb04",
   "metadata": {},
   "outputs": [
    {
     "name": "stdout",
     "output_type": "stream",
     "text": [
      "Fail to Reject Null Hypothesis: There are no risk differences across provinces\n"
     ]
    }
   ],
   "source": [
    "# Select Metrics\n",
    "# For risk differences across provinces and zip codes, we can use TotalPremium and TotalClaims as KPIs\n",
    "# For margin differences between zip codes, we can use TotalPremium as the KPI\n",
    "# For risk differences between women and men, we can use TotalClaims as the KPI\n",
    "\n",
    "# Data Segmentation\n",
    "# For risk differences across provinces, we can segment by Province\n",
    "# For risk differences between zip codes, we can segment by PostalCode\n",
    "# For margin differences between zip codes, we can segment by PostalCode\n",
    "# For risk differences between women and men, we can segment by Gender\n",
    "\n",
    "# Statistical Testing\n",
    "# 1. Risk differences across provinces\n",
    "p_value_provinces = chi_squared_test(df, 'Province', 'TotalClaims')\n",
    "if p_value_provinces < 0.05:\n",
    "    print(\"Reject Null Hypothesis: There are risk differences across provinces\")\n",
    "else:\n",
    "    print(\"Fail to Reject Null Hypothesis: There are no risk differences across provinces\")\n"
   ]
  },
  {
   "cell_type": "code",
   "execution_count": 21,
   "id": "209441f4",
   "metadata": {},
   "outputs": [
    {
     "name": "stdout",
     "output_type": "stream",
     "text": [
      "Fail to Reject Null Hypothesis: There are no risk differences between zip codes\n"
     ]
    }
   ],
   "source": [
    "# 2. Risk differences between zip codes\n",
    "p_value_zipcodes = chi_squared_test(df, 'PostalCode', 'TotalClaims')\n",
    "if p_value_zipcodes < 0.05:\n",
    "    print(\"Reject Null Hypothesis: There are risk differences between zip codes\")\n",
    "else:\n",
    "    print(\"Fail to Reject Null Hypothesis: There are no risk differences between zip codes\")\n"
   ]
  },
  {
   "cell_type": "code",
   "execution_count": 22,
   "id": "a32c32ea",
   "metadata": {},
   "outputs": [
    {
     "name": "stdout",
     "output_type": "stream",
     "text": [
      "Fail to Reject Null Hypothesis: There are no risk differences between zip codes\n"
     ]
    }
   ],
   "source": [
    "# 2. Risk differences between zip codes\n",
    "p_value_zipcodes = chi_squared_test(df, 'PostalCode', 'TotalClaims')\n",
    "if p_value_zipcodes < 0.05:\n",
    "    print(\"Reject Null Hypothesis: There are risk differences between zip codes\")\n",
    "else:\n",
    "    print(\"Fail to Reject Null Hypothesis: There are no risk differences between zip codes\")\n"
   ]
  },
  {
   "cell_type": "code",
   "execution_count": 23,
   "id": "a2ca84e8",
   "metadata": {},
   "outputs": [
    {
     "name": "stdout",
     "output_type": "stream",
     "text": [
      "Fail to Reject Null Hypothesis: There are no significant risk differences between Women and Men\n"
     ]
    }
   ],
   "source": [
    "# 4. Significant risk differences between women and men\n",
    "# Here, we need to segment the data into two groups based on Gender and compare TotalClaims\n",
    "# Let's assume we compare the TotalClaims of women and men\n",
    "group_A = df[df['Gender'] == 'Female']['TotalClaims']\n",
    "group_B = df[df['Gender'] == 'Male']['TotalClaims']\n",
    "p_value_gender = t_test(df, group_A, group_B)\n",
    "if p_value_gender < 0.05:\n",
    "    print(\"Reject Null Hypothesis: There are significant risk differences between Women and Men\")\n",
    "else:\n",
    "    print(\"Fail to Reject Null Hypothesis: There are no significant risk differences between Women and Men\")\n",
    "\n",
    "# Analyze and Report\n",
    "# Interpret the results within the context of their impact on business strategy and customer experience.\n"
   ]
  },
  {
   "cell_type": "code",
   "execution_count": null,
   "id": "4e767c32",
   "metadata": {},
   "outputs": [],
   "source": []
  }
 ],
 "metadata": {
  "kernelspec": {
   "display_name": "Python 3 (ipykernel)",
   "language": "python",
   "name": "python3"
  },
  "language_info": {
   "codemirror_mode": {
    "name": "ipython",
    "version": 3
   },
   "file_extension": ".py",
   "mimetype": "text/x-python",
   "name": "python",
   "nbconvert_exporter": "python",
   "pygments_lexer": "ipython3",
   "version": "3.11.7"
  }
 },
 "nbformat": 4,
 "nbformat_minor": 5
}
